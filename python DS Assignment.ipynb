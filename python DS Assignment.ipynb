{
 "cells": [
  {
   "cell_type": "code",
   "execution_count": 1,
   "id": "f1b30612-0105-47d5-b606-fded8e0e8d5e",
   "metadata": {},
   "outputs": [],
   "source": [
    "#Python Data structure Assignment"
   ]
  },
  {
   "cell_type": "code",
   "execution_count": 2,
   "id": "c59c331f-f451-402d-ad24-c3dd25b6c9c3",
   "metadata": {},
   "outputs": [],
   "source": [
    "#Q1. Discuss string and provide examples."
   ]
  },
  {
   "cell_type": "code",
   "execution_count": 4,
   "id": "8cedcd82-e82a-4aa2-aefc-29cfc2f3adc6",
   "metadata": {},
   "outputs": [],
   "source": [
    "#Ans .It follows the format string[start:end], \n",
    "#where start is the index where slicing begins (inclusive) and end is the index where it ends (exclusive).\n",
    "#For example, with the\n",
    "# string my_string = \"Hello, World!\",\n",
    "#    if you use my_string[7:12], \n",
    "#    it will return \"World\".\n",
    "# If you omit start, it starts from the beginning of the string."
   ]
  },
  {
   "cell_type": "code",
   "execution_count": 5,
   "id": "e3049672-4b21-4e63-b21b-8dd67870cafc",
   "metadata": {},
   "outputs": [],
   "source": [
    "#Q2. Explain the key features of lists in python."
   ]
  },
  {
   "cell_type": "code",
   "execution_count": 6,
   "id": "8f7b5e0b-0fd5-41a9-90f2-807a00a84ce4",
   "metadata": {},
   "outputs": [],
   "source": [
    "# Ans. Lists are mutable and dynamic; list items can be added, removed or changed after the list is defined. Lists are ordered; \n",
    "# newly added items will be placed at the end of the list. Lists use zero-based indexing; every list item has an associated index,\n",
    "# and The first item's index is 0."
   ]
  },
  {
   "cell_type": "code",
   "execution_count": 7,
   "id": "758de231-2f75-4d36-a702-14f6f1880a68",
   "metadata": {},
   "outputs": [],
   "source": [
    " #Q3. Describe how to access,modify and delete elements in a list with examples."
   ]
  },
  {
   "cell_type": "code",
   "execution_count": 15,
   "id": "8f3cc60e-f827-490f-8c71-10f915864c7e",
   "metadata": {},
   "outputs": [
    {
     "name": "stdout",
     "output_type": "stream",
     "text": [
      "Original List is : ['Iris', 'Orchids', 'Rose', 'Lavender', 'Lily', 'Carnations']\n",
      "After deleting the item : ['Iris', 'Rose', 'Lavender', 'Lily', 'Carnations']\n"
     ]
    }
   ],
   "source": [
    "# Ans. Python list elements are ordered by index, a number referring to their placement in the list. List indices start at 0 and increment by one. To access a list element by index,\n",
    "# square bracket notation is used: list[index] .\n",
    "# Modify an Item Within a List in Python\n",
    " #Remove an Item from a List\n",
    "#We will use a different method to Remove Elements from the List in Python:\n",
    "\n",
    "#Using Python remove()\n",
    "#Using Python del\n",
    "#Using Python List comprehension\n",
    "#Using Python pop() \n",
    "#Using Python discard()\n",
    "#Using Python filter()\n",
    "#Using Python List Slicing\n",
    "lst = ['Iris', 'Orchids', 'Rose', 'Lavender',\n",
    "\t'Lily', 'Carnations']\n",
    "print(\"Original List is :\", lst)\n",
    "\n",
    "# using remove()\n",
    "lst.remove('Orchids')\n",
    "print(\"After deleting the item :\", lst)\n"
   ]
  },
  {
   "cell_type": "code",
   "execution_count": 16,
   "id": "ea1b75ac-b9f5-4f78-b2e8-21e003dd834f",
   "metadata": {},
   "outputs": [
    {
     "name": "stdout",
     "output_type": "stream",
     "text": [
      "Original List is : ['Iris', 'Orchids', 'Rose', 'Lavender', 'Lily', 'Carnations']\n",
      "After deleting the item : ['Iris', 'Rose', 'Lavender', 'Lily', 'Carnations']\n"
     ]
    }
   ],
   "source": [
    "lst = ['Iris', 'Orchids', 'Rose', 'Lavender',\n",
    "\t'Lily', 'Carnations']\n",
    "print(\"Original List is :\", lst)\n",
    "\n",
    "# using del statement\n",
    "# to delete item (Orchids at index 1)\n",
    "# from the list\n",
    "del lst[1]\n",
    "print(\"After deleting the item :\", lst)\n"
   ]
  },
  {
   "cell_type": "code",
   "execution_count": 17,
   "id": "aa475864-888b-4ec0-8381-1f765bb06354",
   "metadata": {},
   "outputs": [
    {
     "name": "stdout",
     "output_type": "stream",
     "text": [
      "original list : [1, 9, 8, 4, 9, 2, 9]\n",
      "List after element removal is : [1, 8, 4, 2]\n"
     ]
    }
   ],
   "source": [
    "# Python program to remove given element from the list\n",
    "list1 = [1, 9, 8, 4, 9, 2, 9]\n",
    "\t\n",
    "# Printing initial list\n",
    "print (\"original list : \"+ str(list1))\n",
    "\n",
    "# using List Comprehension\n",
    "# to remove list element 9\n",
    "list1 = [ele for ele in list1 if ele != 9]\n",
    "\t\n",
    "# Printing list after removal\n",
    "print (\"List after element removal is : \" + str(list1))\n"
   ]
  },
  {
   "cell_type": "code",
   "execution_count": 18,
   "id": "23a1a6cf-82de-438b-8b62-e9373927f191",
   "metadata": {},
   "outputs": [
    {
     "name": "stdout",
     "output_type": "stream",
     "text": [
      "Original List is : ['Iris', 'Orchids', 'Rose', 'Lavender', 'Lily', 'Carnations']\n",
      "Item popped : Orchids\n",
      "After deleting the item : ['Iris', 'Rose', 'Lavender', 'Lily', 'Carnations']\n"
     ]
    }
   ],
   "source": [
    "lst = ['Iris', 'Orchids', 'Rose', 'Lavender',\n",
    "\t'Lily', 'Carnations']\n",
    "print(\"Original List is :\", lst)\n",
    "\n",
    "# using pop() to delete item \n",
    "# ('Orchids' at index 1) from the list\n",
    "a = lst.pop(1)\n",
    "print(\"Item popped :\", a)\n",
    "print(\"After deleting the item :\", lst)\n"
   ]
  },
  {
   "cell_type": "code",
   "execution_count": 19,
   "id": "2f380321-630c-4c78-8f3a-c2ba4f387059",
   "metadata": {},
   "outputs": [
    {
     "name": "stdout",
     "output_type": "stream",
     "text": [
      "Original List is : ['Iris', 'Orchids', 'Rose', 'Lavender', 'Lily', 'Carnations']\n",
      "List after element removal is : ['Carnations', 'Lavender', 'Iris', 'Lily', 'Rose']\n"
     ]
    }
   ],
   "source": [
    "# Python program to remove given element from the list\n",
    "lst = ['Iris', 'Orchids', 'Rose', 'Lavender',\n",
    "\t'Lily', 'Carnations']\n",
    "print(\"Original List is :\", lst)\n",
    "\n",
    "# using discard() method to remove list element 'orchids'\n",
    "lst = set(lst)\n",
    "lst.discard('Orchids')\n",
    "\n",
    "# Converting set back to list\n",
    "lst=list(lst)\n",
    "\n",
    "print(\"List after element removal is :\", lst)\n"
   ]
  },
  {
   "cell_type": "code",
   "execution_count": 20,
   "id": "385136fe-0136-489b-8ffc-46eb0bdb930c",
   "metadata": {},
   "outputs": [
    {
     "name": "stdout",
     "output_type": "stream",
     "text": [
      "Original List is : ['Iris', 'Orchids', 'Rose', 'Lavender', 'Lily', 'Carnations']\n",
      "List after element removal is : ['Iris', 'Rose', 'Lavender', 'Lily', 'Carnations']\n"
     ]
    }
   ],
   "source": [
    "# Python program to remove given element from the list\n",
    "lst = ['Iris', 'Orchids', 'Rose', 'Lavender',\n",
    "\t'Lily', 'Carnations']\n",
    "print(\"Original List is :\", lst)\n",
    "\n",
    "# using discard() method to remove list element 'orchids'\n",
    "lst1 = filter(lambda item: item!='Orchids',lst)\n",
    "\n",
    "print(\"List after element removal is :\", list(lst1))\n"
   ]
  },
  {
   "cell_type": "code",
   "execution_count": 21,
   "id": "88bac477-7195-40d1-a4be-ed648821b783",
   "metadata": {},
   "outputs": [
    {
     "name": "stdout",
     "output_type": "stream",
     "text": [
      "[1, 2, 4, 5]\n"
     ]
    }
   ],
   "source": [
    "my_list = [1, 2, 3, 4, 5]\n",
    "my_list = my_list[:2] + my_list[3:]\n",
    "print(my_list) # Output: [1, 2, 4, 5]\n"
   ]
  },
  {
   "cell_type": "code",
   "execution_count": 22,
   "id": "03da63e9-5be4-41b6-82a7-0baa152b266c",
   "metadata": {},
   "outputs": [
    {
     "name": "stdout",
     "output_type": "stream",
     "text": [
      "Original List is : [1, 9, 8, 4, 9, 2, 9]\n",
      "List after element removal is : [1, 8, 4, 2]\n"
     ]
    }
   ],
   "source": [
    "import itertools\n",
    "\n",
    "lst = [1, 9, 8, 4, 9, 2, 9]\n",
    "print(\"Original List is :\", lst)\n",
    "\n",
    "# itertools.filterfalse() to filter out all occurrences of 9 from the list\n",
    "lst_filtered = list(itertools.filterfalse(lambda x: x == 9, lst))\n",
    "print(\"List after element removal is :\", lst_filtered)\n",
    "#this code is contributed by Jyothi pinjala.\n"
   ]
  },
  {
   "cell_type": "code",
   "execution_count": null,
   "id": "a66dbb2e-ab51-441d-af88-c9e0724a9f56",
   "metadata": {},
   "outputs": [],
   "source": [
    "#Q4. Compare and contrast tuples and lists with examples"
   ]
  },
  {
   "cell_type": "code",
   "execution_count": 23,
   "id": "a7cad3f2-d9e4-44f8-9cc5-785b39a6f3d5",
   "metadata": {},
   "outputs": [],
   "source": [
    "# Ans.Use a list if you need a mutable collection of items where you may need to add, remove, or change elements. Lists are more flexible and have more built-in methods,making them ideal for dynamic collections. Use a tuple if you need an immutablecollection where the elements won't change after creation."
   ]
  },
  {
   "cell_type": "code",
   "execution_count": 24,
   "id": "c37e609e-51f2-4da9-9159-0b4134b6515c",
   "metadata": {},
   "outputs": [],
   "source": [
    "# Q5.Describe the key features of sets and provide examples of their uses"
   ]
  },
  {
   "cell_type": "code",
   "execution_count": 26,
   "id": "cd6bbc18-165c-4b5c-8b49-087691cf5598",
   "metadata": {},
   "outputs": [],
   "source": [
    "# Ans.A set is represented by a capital letter symbol and the number of elements in the finite set is represented as the cardinal number of a set in a curly bracket {…}. \n",
    "#For example, set A is a collection of all the natural numbers,\n",
    "#such as A = {1,2,3,4,5,6,7,8,…..∞}. "
   ]
  },
  {
   "cell_type": "code",
   "execution_count": 27,
   "id": "8bb8e921-e980-4546-9058-48c55691e0db",
   "metadata": {},
   "outputs": [],
   "source": [
    "#  Q6.Discuss the use cases of tuples and sets in python programming\n"
   ]
  },
  {
   "cell_type": "code",
   "execution_count": null,
   "id": "e648183c-1e00-46b8-a18f-e3c97dbadcad",
   "metadata": {},
   "outputs": [],
   "source": [
    "#Ans.Tuples are used to store multiple items in a single variable. Tuple is one of 4 built-in data types in Python used to store collections of data, the other 3 are List, Set, and Dictionary, all with different qualities and usage. A tuple is a collection which is orderedand unchangeable.\n",
    "# A common use of sets in Python is computing standard math operations such as union,intersection, difference, and symmetric difference. The image below shows a couplestandard math operations on two sets A and B. The red part of each Venn diagram isthe resulting set of a given set operation"
   ]
  },
  {
   "cell_type": "code",
   "execution_count": null,
   "id": "43c868be-3db2-4b1f-936a-a0b1f4b39235",
   "metadata": {},
   "outputs": [],
   "source": [
    "# Q7. Describe how to add, modify, and delete items in a dictionary with examples."
   ]
  },
  {
   "cell_type": "code",
   "execution_count": null,
   "id": "420d5572-36f9-4d7e-9f22-b87b44cf8139",
   "metadata": {},
   "outputs": [],
   "source": [
    "# Ans.How to Add an Item to a Dictionary in Python\n",
    " Method 1: Using The Assignment Operator. ...\n",
    " Method 2: Using update() ...\n",
    " Method 3: Using dict() Constructor. ...\n",
    " Method 4: Using __setitem__ ...\n",
    " Method 5: Using The ** Operator. ...\n",
    " Method 6: Checking If A Key Exists. ...\n",
    " Method 7: Using A For Loop. ...\n",
    " Method 8: Using zip.\n",
    " How to modify a dictionary Python\n",
    " ● Toupdate a dictionary in Python, you can use the update() method, like dict1.\n",
    " update({'b': 3, 'c': 4}) . This method allows you to add new items or change the\n",
    " value of existing items in a Python dictionary. In this example, we have a\n",
    " dictionary dict1 with keys 'a' and 'b'.\n",
    " How to remove a key from a Python dictionary.\n",
    " To remove a key from a dictionary, you can use the del statement. Here's an example:\n",
    " my_dict = {'a': 1, 'b': 2, 'c': 3} del my_dict['b'] print(my_dict) # Output: {'a': 1, 'c': 3}\n",
    " Alternatively, yo"
   ]
  },
  {
   "cell_type": "code",
   "execution_count": 28,
   "id": "52c4332f-547b-4ace-b71e-0aa82e03a960",
   "metadata": {},
   "outputs": [],
   "source": [
    "#Q8.Discuss the importance of dictionary keys being immutable and provide examples."
   ]
  },
  {
   "cell_type": "code",
   "execution_count": null,
   "id": "f509cbc7-d95a-4db1-85f8-afb178426da2",
   "metadata": {},
   "outputs": [],
   "source": [
    "# Ans.In a dictionary, the key part must be immutable. This means that once a key is created, it cannot be changed. Immutability is essential for keys because it ensures that the dictionary can efficiently look up values based on their keys.If the key were a mutable object, its value could change, and thus its hash could also change. But since\n",
    " whoever changes the key object can't tell that it was being used as a dictionary key, it\n",
    " can't move the entry around in the dictionary"
   ]
  }
 ],
 "metadata": {
  "kernelspec": {
   "display_name": "Python 3 (ipykernel)",
   "language": "python",
   "name": "python3"
  },
  "language_info": {
   "codemirror_mode": {
    "name": "ipython",
    "version": 3
   },
   "file_extension": ".py",
   "mimetype": "text/x-python",
   "name": "python",
   "nbconvert_exporter": "python",
   "pygments_lexer": "ipython3",
   "version": "3.10.8"
  }
 },
 "nbformat": 4,
 "nbformat_minor": 5
}
